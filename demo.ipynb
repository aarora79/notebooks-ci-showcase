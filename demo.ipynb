{
 "cells": [
  {
   "cell_type": "markdown",
   "metadata": {},
   "source": [
    "# SF Bike Rentals"
   ]
  },
  {
   "cell_type": "code",
   "execution_count": 1,
   "metadata": {},
   "outputs": [],
   "source": [
    "%%capture\n",
    "%load_ext google.cloud.bigquery"
   ]
  },
  {
   "cell_type": "code",
   "execution_count": 2,
   "metadata": {
    "tags": [
     "parameters"
    ]
   },
   "outputs": [],
   "source": [
    "# cell has tag: \"parameters\", default if not provided\n",
    "start_date = \"2000-01-01\"\n",
    "end_date = \"2020-01-01\""
   ]
  },
  {
   "cell_type": "code",
   "execution_count": null,
   "metadata": {},
   "outputs": [],
   "source": [
    "params = {\n",
    "    \"start_date\": start_date, \n",
    "    \"end_date\": end_date\n",
    "}\n",
    "print(\"Including rides between {} and {}\".format(start_date, end_date))"
   ]
  },
  {
   "cell_type": "code",
   "execution_count": 4,
   "metadata": {},
   "outputs": [],
   "source": [
    "%%bigquery sf_stations --params $params\n",
    "SELECT\n",
    "    stations.station_id,\n",
    "    stations.name,\n",
    "    stations.lat,\n",
    "    stations.lon,\n",
    "    COUNT(*) as count\n",
    "FROM\n",
    "    `bigquery-public-data.san_francisco_bikeshare.bikeshare_trips` as trips\n",
    "JOIN \n",
    "    `bigquery-public-data.san_francisco_bikeshare.bikeshare_station_info` as stations \n",
    "ON \n",
    "    trips.start_station_id = stations.station_id\n",
    "WHERE\n",
    "    stations.lat BETWEEN 37.7 AND 38.5 AND \n",
    "    stations.lon BETWEEN -122.5 AND -122.35 AND\n",
    "    trips.start_date BETWEEN TIMESTAMP( @start_date ) AND TIMESTAMP( @end_date )\n",
    "GROUP BY\n",
    "    stations.station_id, stations.name, stations.lat, stations.lon\n",
    "ORDER By\n",
    "    count DESC"
   ]
  },
  {
   "cell_type": "markdown",
   "metadata": {},
   "source": [
    "## Top 10 Stations"
   ]
  },
  {
   "cell_type": "code",
   "execution_count": null,
   "metadata": {},
   "outputs": [],
   "source": [
    "top = sf_stations[['name','count']].head(10)\n",
    "top.style.hide_index()"
   ]
  },
  {
   "cell_type": "markdown",
   "metadata": {},
   "source": [
    "## Station Map"
   ]
  },
  {
   "cell_type": "code",
   "execution_count": null,
   "metadata": {},
   "outputs": [],
   "source": [
    "print(\"removed code\")"
   ]
  }
 ],
 "metadata": {
  "kernelspec": {
   "display_name": "Python 3",
   "language": "python",
   "name": "python3"
  },
  "language_info": {
   "codemirror_mode": {
    "name": "ipython",
    "version": 3
   },
   "file_extension": ".py",
   "mimetype": "text/x-python",
   "name": "python",
   "nbconvert_exporter": "python",
   "pygments_lexer": "ipython3",
   "version": "3.5.3"
  }
 },
 "nbformat": 4,
 "nbformat_minor": 2
}
